{
 "cells": [
  {
   "cell_type": "code",
   "execution_count": 1,
   "metadata": {},
   "outputs": [],
   "source": [
    "import pandas as pd\n",
    "import matplotlib.pyplot as plt"
   ]
  },
  {
   "cell_type": "code",
   "execution_count": 3,
   "metadata": {},
   "outputs": [],
   "source": [
    "# dataset = 'book-crossing'\n",
    "dataset = 'anime'\n",
    "imp_path = f'{dataset}_before/{dataset}.implicit.raw'\n",
    "exp_path = f'{dataset}_before/{dataset}.explicit.raw'\n",
    "save_imp_path = f'{dataset}/{dataset}.implicit'\n",
    "save_exp_path = f'{dataset}/{dataset}.explicit'\n",
    "implicit = pd.read_csv(imp_path, sep='\\t', header=0)\n",
    "explicit = pd.read_csv(exp_path, sep='\\t', header=0)"
   ]
  },
  {
   "cell_type": "code",
   "execution_count": 10,
   "metadata": {},
   "outputs": [
    {
     "name": "stdout",
     "output_type": "stream",
     "text": [
      "Implicit users: 59517\n",
      "Implicit items: 246724\n",
      "Explicit users: 77805\n",
      "Explicit items: 185973\n"
     ]
    }
   ],
   "source": [
    "imp_users = set(implicit['user_id:token'].unique())\n",
    "imp_items = set(implicit['item_id:token'].unique())\n",
    "exp_users = set(explicit['user_id:token'].unique())\n",
    "exp_items = set(explicit['item_id:token'].unique())\n",
    "print('Implicit users:', len(imp_users))\n",
    "print('Implicit items:', len(imp_items))\n",
    "print('Explicit users:', len(exp_users))\n",
    "print('Explicit items:', len(exp_items))\n"
   ]
  },
  {
   "cell_type": "code",
   "execution_count": 4,
   "metadata": {},
   "outputs": [
    {
     "name": "stdout",
     "output_type": "stream",
     "text": [
      "Implicit users: 37128\n",
      "Implicit items: 10697\n",
      "Explicit users: 69600\n",
      "Explicit items: 9927\n",
      "Saving implicit and explicit data to  anime/anime.implicit anime/anime.explicit\n"
     ]
    }
   ],
   "source": [
    "\n",
    "imp_users = set(implicit['user_id:token'].unique())\n",
    "imp_items = set(implicit['item_id:token'].unique())\n",
    "exp_users = set(explicit['user_id:token'].unique())\n",
    "exp_items = set(explicit['item_id:token'].unique())\n",
    "print('Implicit users:', len(imp_users))\n",
    "print('Implicit items:', len(imp_items))\n",
    "print('Explicit users:', len(exp_users))\n",
    "print('Explicit items:', len(exp_items))\n",
    "\n",
    "# invalid users/items are users/items with explicit ratings but no implicit ratings\n",
    "invalid_users = exp_users - imp_users\n",
    "invalid_items = exp_items - imp_items\n",
    "\n",
    "implicit = implicit[~implicit['user_id:token'].isin(invalid_users)]\n",
    "implicit = implicit[~implicit['item_id:token'].isin(invalid_items)]\n",
    "explicit = explicit[~explicit['user_id:token'].isin(invalid_users)]\n",
    "explicit = explicit[~explicit['item_id:token'].isin(invalid_items)]\n",
    "\n",
    "print('Saving implicit and explicit data to ', save_imp_path, save_exp_path)\n",
    "implicit.to_csv(save_imp_path, index=False, sep='\\t')\n",
    "explicit.to_csv(save_exp_path, index=False, sep='\\t')\n",
    "\n",
    "# concatenate implicit and explicit data\n",
    "implicit['explicit:float'] = 0\n",
    "explicit['explicit:float'] = 1\n",
    "inter = pd.concat([implicit, explicit])\n",
    "inter = inter.drop_duplicates()\n",
    "inter.to_csv(f'{dataset}/{dataset}.inter', index=False, sep='\\t')"
   ]
  },
  {
   "cell_type": "code",
   "execution_count": 19,
   "metadata": {},
   "outputs": [
    {
     "name": "stdout",
     "output_type": "stream",
     "text": [
      "Implicit users: 28393\n",
      "Implicit items: 88693\n",
      "Explicit users: 29092\n",
      "Explicit items: 84792\n"
     ]
    }
   ],
   "source": [
    "imp_users = set(implicit['user_id:token'].unique())\n",
    "imp_items = set(implicit['item_id:token'].unique())\n",
    "exp_users = set(explicit['user_id:token'].unique())\n",
    "exp_items = set(explicit['item_id:token'].unique())\n",
    "print('Implicit users:', len(imp_users))\n",
    "print('Implicit items:', len(imp_items))\n",
    "print('Explicit users:', len(exp_users))\n",
    "print('Explicit items:', len(exp_items))\n"
   ]
  },
  {
   "cell_type": "code",
   "execution_count": 4,
   "metadata": {},
   "outputs": [],
   "source": [
    "invalid_users = imp_users - exp_users # users that only have implicit feedback\n",
    "invalid_items = imp_items - exp_items # items that only have implicit feedback\n",
    "explicit = explicit[~explicit['user_id:token'].isin(invalid_users) & ~explicit['item_id:token'].isin(invalid_items)]\n",
    "implicit = implicit[~implicit['user_id:token'].isin(invalid_users) & ~implicit['item_id:token'].isin(invalid_items)]"
   ]
  },
  {
   "cell_type": "code",
   "execution_count": 5,
   "metadata": {},
   "outputs": [],
   "source": [
    "imp_users = set(implicit['user_id:token'].unique())\n",
    "imp_items = set(implicit['item_id:token'].unique())\n",
    "exp_users = set(explicit['user_id:token'].unique())\n",
    "exp_items = set(explicit['item_id:token'].unique())"
   ]
  },
  {
   "cell_type": "code",
   "execution_count": 8,
   "metadata": {},
   "outputs": [
    {
     "name": "stdout",
     "output_type": "stream",
     "text": [
      "Saving implicit and explicit data to  book-crossing/book-crossing.implicit book-crossing/book-crossing.explicit\n"
     ]
    }
   ],
   "source": [
    "# save implicit and explicit data\n",
    "print('Saving implicit and explicit data to ', save_imp_path, save_exp_path)\n",
    "implicit.to_csv(save_imp_path, index=False, sep='\\t')\n",
    "explicit.to_csv(save_exp_path, index=False, sep='\\t')"
   ]
  },
  {
   "cell_type": "code",
   "execution_count": 8,
   "metadata": {},
   "outputs": [],
   "source": [
    "pos_explicit = explicit['rating:float'] >= 7\n",
    "pos_explicit = explicit[pos_explicit]"
   ]
  },
  {
   "cell_type": "code",
   "execution_count": 10,
   "metadata": {},
   "outputs": [],
   "source": [
    "pos_explicit.to_csv('test_dataset/test_dataset.inter', sep='\\t', index=False)"
   ]
  },
  {
   "cell_type": "code",
   "execution_count": null,
   "metadata": {},
   "outputs": [],
   "source": []
  }
 ],
 "metadata": {
  "kernelspec": {
   "display_name": "gen",
   "language": "python",
   "name": "python3"
  },
  "language_info": {
   "codemirror_mode": {
    "name": "ipython",
    "version": 3
   },
   "file_extension": ".py",
   "mimetype": "text/x-python",
   "name": "python",
   "nbconvert_exporter": "python",
   "pygments_lexer": "ipython3",
   "version": "3.9.13"
  }
 },
 "nbformat": 4,
 "nbformat_minor": 2
}
